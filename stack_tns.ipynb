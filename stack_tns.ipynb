{
  "nbformat": 4,
  "nbformat_minor": 0,
  "metadata": {
    "colab": {
      "provenance": [],
      "authorship_tag": "ABX9TyOToXELM406A9DCIGNM9kVJ"
    },
    "kernelspec": {
      "name": "python3",
      "display_name": "Python 3"
    },
    "language_info": {
      "name": "python"
    }
  },
  "cells": [
    {
      "cell_type": "markdown",
      "source": [
        "##  Python Stack — DSA Theory\n",
        "\n",
        "A **Stack** is a linear data structure that follows the **Last In First Out (LIFO)** principle.  \n",
        "This means the last element added is the first one to be removed.\n",
        "\n",
        "---\n",
        "\n",
        "###  Characteristics:\n",
        "- **LIFO Order:** Last inserted element is removed first.\n",
        "- Can be implemented using **list**, **deque (from collections)**, or **custom class**.\n",
        "- Operations performed at **one end only (top of stack)**.\n",
        "\n",
        "---\n",
        "\n",
        "###  Common Stack Operations:\n",
        "\n",
        "| Operation    | Description                                     |\n",
        "|:------------|:------------------------------------------------|\n",
        "| `push()`     | Add an element to the top of the stack           |\n",
        "| `pop()`      | Remove the top element                           |\n",
        "| `peek()` / `top()` | View the top element without removing it   |\n",
        "| `isEmpty()`  | Check if stack is empty                          |\n",
        "| `size()`     | Return the number of elements in the stack       |\n",
        "\n",
        "\n",
        "---\n",
        "\n",
        "### 📌 Real-Life Examples:\n",
        "- Browser Back button  \n",
        "- Undo operation in text editors  \n",
        "- Recursive function call stack  \n"
      ],
      "metadata": {
        "id": "-eZBzlj_u67r"
      }
    },
    {
      "cell_type": "code",
      "execution_count": null,
      "metadata": {
        "id": "LkOPSWLkkmFs",
        "colab": {
          "base_uri": "https://localhost:8080/"
        },
        "outputId": "49e2289a-ebe5-4a8b-a28b-4f00251fff02"
      },
      "outputs": [
        {
          "output_type": "stream",
          "name": "stdout",
          "text": [
            "Stack after pushes: [1, 2, 3, 4, 5]\n",
            "Top element (peek): 5\n",
            "Removed element (pop): 5\n",
            "Stack after pop: [1, 2, 3, 4]\n",
            "Is stack empty? False\n",
            "Stack size: 4\n"
          ]
        }
      ],
      "source": [
        "class Stack:\n",
        "  def __init__(self):\n",
        "    self.stack=[]\n",
        "  def push(self,item):\n",
        "    self.stack+=[item]\n",
        "  def pop(self):\n",
        "    if not self.isEmpty():\n",
        "      tope_ele=self.stack[len(self.stack)-1]\n",
        "      self.stack=self.stack[:-1]\n",
        "      return tope_ele\n",
        "    else:\n",
        "      return \"Stack is empty\"\n",
        "  def peek(self):\n",
        "    if not self.isEmpty():\n",
        "      return self.stack[len(self.stack)-1]\n",
        "    else:\n",
        "      return \"Stack is Empty\"\n",
        "  def isEmpty(self):\n",
        "    return len(self.stack)==0\n",
        "  def size(self):\n",
        "    return len(self.stack)\n",
        "  def display(self):\n",
        "    return self.stack\n",
        "s=Stack()\n",
        "s.push(1)\n",
        "s.push(2)\n",
        "s.push(3)\n",
        "s.push(4)\n",
        "s.push(5)\n",
        "print(\"Stack after pushes:\", s.display())\n",
        "print(\"Top element (peek):\", s.peek())\n",
        "print(\"Removed element (pop):\", s.pop())\n",
        "print(\"Stack after pop:\", s.display())\n",
        "print(\"Is stack empty?\", s.isEmpty())\n",
        "print(\"Stack size:\", s.size())\n"
      ]
    },
    {
      "cell_type": "markdown",
      "source": [
        "##Declaration of Stack"
      ],
      "metadata": {
        "id": "0CKq4pw-IvGP"
      }
    },
    {
      "cell_type": "code",
      "source": [
        "stack=[]"
      ],
      "metadata": {
        "id": "951DbtHKvKRI"
      },
      "execution_count": null,
      "outputs": []
    },
    {
      "cell_type": "markdown",
      "source": [
        "##Functions of Stack"
      ],
      "metadata": {
        "id": "51yLco0XI4V9"
      }
    },
    {
      "cell_type": "markdown",
      "source": [
        "#1.push()"
      ],
      "metadata": {
        "id": "7YNiujEoI-0f"
      }
    },
    {
      "cell_type": "code",
      "source": [
        "stack=[]\n",
        "stack.append(10)\n",
        "stack.append(20)\n",
        "stack.append(30)\n",
        "print(\"Stack after push:\",stack)"
      ],
      "metadata": {
        "colab": {
          "base_uri": "https://localhost:8080/"
        },
        "id": "ohcs6yr2JBAG",
        "outputId": "67fa4b84-1782-4b6b-aadf-af3c8b909995"
      },
      "execution_count": null,
      "outputs": [
        {
          "output_type": "stream",
          "name": "stdout",
          "text": [
            "Stack after push: [10, 20, 30]\n"
          ]
        }
      ]
    },
    {
      "cell_type": "markdown",
      "source": [
        "##2.pop()"
      ],
      "metadata": {
        "id": "OTjrZOBAJTMv"
      }
    },
    {
      "cell_type": "code",
      "source": [
        "stack=[10,20,30]\n",
        "top=stack.pop()\n",
        "print(\"Popped element:\",top)\n",
        "print(\"Stack after popping:\",stack)"
      ],
      "metadata": {
        "colab": {
          "base_uri": "https://localhost:8080/"
        },
        "id": "Ptc_kw1dJV_H",
        "outputId": "0ada0039-08a0-4aca-f1bf-ed125016e5ab"
      },
      "execution_count": null,
      "outputs": [
        {
          "output_type": "stream",
          "name": "stdout",
          "text": [
            "Popped element: 30\n",
            "Stack after popping: [10, 20]\n"
          ]
        }
      ]
    },
    {
      "cell_type": "markdown",
      "source": [
        "#3.peek()"
      ],
      "metadata": {
        "id": "1BQ5SlquJfEv"
      }
    },
    {
      "cell_type": "code",
      "source": [
        "stack=[10,20,30]\n",
        "print(\"Top Element:\",stack[-1])"
      ],
      "metadata": {
        "colab": {
          "base_uri": "https://localhost:8080/"
        },
        "id": "Dnz7GEx4JiRb",
        "outputId": "80978d28-30f8-4611-c24b-fc7d39dec529"
      },
      "execution_count": null,
      "outputs": [
        {
          "output_type": "stream",
          "name": "stdout",
          "text": [
            "Top Element: 30\n"
          ]
        }
      ]
    },
    {
      "cell_type": "markdown",
      "source": [
        "#4.display()"
      ],
      "metadata": {
        "id": "PMboEtXjJxqv"
      }
    },
    {
      "cell_type": "code",
      "source": [
        "stack=[10,20,30,40]\n",
        "print(\"Stack:\",stack)"
      ],
      "metadata": {
        "colab": {
          "base_uri": "https://localhost:8080/"
        },
        "id": "oHZDs3SIJ4Q4",
        "outputId": "1a8d2e67-a767-46b6-d2b2-487738debeb5"
      },
      "execution_count": null,
      "outputs": [
        {
          "output_type": "stream",
          "name": "stdout",
          "text": [
            "Stack: [10, 20, 30, 40]\n"
          ]
        }
      ]
    },
    {
      "cell_type": "markdown",
      "source": [
        "#5.isEmpty()"
      ],
      "metadata": {
        "id": "Rt3yNdSUJ_1p"
      }
    },
    {
      "cell_type": "code",
      "source": [
        "stack=[10,20,30,40]\n",
        "print(\"Is stack empty?\",len(stack)==0)\n",
        "stack=[]\n",
        "print(\"Is stack empty?\",len(stack)==0)\n"
      ],
      "metadata": {
        "colab": {
          "base_uri": "https://localhost:8080/"
        },
        "id": "Dhp-jNTqKEMp",
        "outputId": "93379047-198c-4d0e-cb76-fc392d1df32c"
      },
      "execution_count": null,
      "outputs": [
        {
          "output_type": "stream",
          "name": "stdout",
          "text": [
            "Is stack empty? False\n",
            "Is stack empty? True\n"
          ]
        }
      ]
    },
    {
      "cell_type": "markdown",
      "source": [
        "#6.size()"
      ],
      "metadata": {
        "id": "vYtG8Qy7KThn"
      }
    },
    {
      "cell_type": "code",
      "source": [
        "stack=[10,20,30,40]\n",
        "print(\"Size of Stack:\",len(stack))"
      ],
      "metadata": {
        "colab": {
          "base_uri": "https://localhost:8080/"
        },
        "id": "u_Z2ZO-5Kc8F",
        "outputId": "57921ce5-322a-4739-abd1-4ce894b5bfaf"
      },
      "execution_count": null,
      "outputs": [
        {
          "output_type": "stream",
          "name": "stdout",
          "text": [
            "Size of Stack: 4\n"
          ]
        }
      ]
    },
    {
      "cell_type": "markdown",
      "source": [
        "##DSA Problems"
      ],
      "metadata": {
        "id": "06ABwX9aKtjJ"
      }
    },
    {
      "cell_type": "markdown",
      "source": [
        "### 1. Next Greater Element (NGE) Using Stack\n",
        "\n",
        "Problem:\n",
        "\n",
        "- Given an array, for each element, find the next greater element to its right. If there’s no greater element, print -1 for that position.\n",
        "\n",
        "- Solve this using a stack efficiently in O(n) time.\n",
        "\n",
        "\n",
        "Example\n",
        "\n",
        "Input: [4, 5, 2, 25]  \n",
        "Output: {4: 5, 5: 25, 2: 25, 25: -1}\n"
      ],
      "metadata": {
        "id": "7M0YquINL6Mf"
      }
    },
    {
      "cell_type": "code",
      "source": [
        "def nge(arr):\n",
        "  result={}\n",
        "  stack=[]\n",
        "  for num in arr:\n",
        "    while stack and stack[-1]<num:\n",
        "      result[stack.pop()]=num\n",
        "    stack.append(num)\n",
        "  while stack:\n",
        "    result[stack.pop()]=-1\n",
        "  return result\n",
        "arr=[4,5,2,25]\n",
        "print(nge(arr))\n",
        "\n"
      ],
      "metadata": {
        "id": "TSU8IKpjMAUd",
        "colab": {
          "base_uri": "https://localhost:8080/"
        },
        "outputId": "907caa63-0603-4e65-b42e-7195c9151e43"
      },
      "execution_count": 1,
      "outputs": [
        {
          "output_type": "stream",
          "name": "stdout",
          "text": [
            "{4: 5, 2: 25, 5: 25, 25: -1}\n"
          ]
        }
      ]
    },
    {
      "cell_type": "markdown",
      "source": [
        "### 2. Check for Balanced Parentheses\n",
        "\n",
        "Example:\n",
        "\n",
        "Input: \"{ [ ( ) ] }\" → Balanced\n",
        "\n",
        "Input: \"{ [ ( ] ) }\" → Not Balanced"
      ],
      "metadata": {
        "id": "woWfuheDZCDT"
      }
    },
    {
      "cell_type": "code",
      "source": [
        "def parantheses(arr):\n",
        "  stack=[]\n",
        "  pairs={')':'(',']':'[','}':'{'}\n",
        "  for char in arr:\n",
        "    if char in pairs.values():\n",
        "      stack.append(char)\n",
        "    elif char in pairs.keys():\n",
        "      if not stack or stack[-1]!=pairs[char]:\n",
        "        return \"Not Balanced\"\n",
        "      else:\n",
        "        stack.pop()\n",
        "  return \"Balanced\" if not stack else \"Not Balanced\"\n",
        "arr=\"{ [ ( )  }\"\n",
        "print(parantheses(arr))"
      ],
      "metadata": {
        "colab": {
          "base_uri": "https://localhost:8080/"
        },
        "id": "E-azM9kIZDFO",
        "outputId": "f4cdbbbd-e87b-4c44-db6d-f746b351e46c"
      },
      "execution_count": 8,
      "outputs": [
        {
          "output_type": "stream",
          "name": "stdout",
          "text": [
            "Not Balanced\n"
          ]
        }
      ]
    },
    {
      "cell_type": "markdown",
      "source": [
        "## 3. Reverse a String Using Stack\n",
        "\n",
        "Example:\n",
        "\n",
        "Input: \"hello\"\n",
        "\n",
        "Output: \"olleh\""
      ],
      "metadata": {
        "id": "wB_0GCWqbHzb"
      }
    },
    {
      "cell_type": "code",
      "source": [
        "def reverse(arr):\n",
        "  stack=[]\n",
        "  for char in arr:\n",
        "    stack.append(char)\n",
        "    reverse_str=\"\"\n",
        "  while stack:\n",
        "    reverse_str+=stack.pop()\n",
        "  return reverse_str\n",
        "reverse('hello')"
      ],
      "metadata": {
        "colab": {
          "base_uri": "https://localhost:8080/",
          "height": 36
        },
        "id": "e0Kn-H6Sa1ht",
        "outputId": "aeb743a9-1da5-48e2-e968-bbeff358dff9"
      },
      "execution_count": 11,
      "outputs": [
        {
          "output_type": "execute_result",
          "data": {
            "text/plain": [
              "'olleh'"
            ],
            "application/vnd.google.colaboratory.intrinsic+json": {
              "type": "string"
            }
          },
          "metadata": {},
          "execution_count": 11
        }
      ]
    },
    {
      "cell_type": "markdown",
      "source": [
        "### 4. Sort a Stack (Using One More Stack)\n",
        "\n",
        "Example:\n",
        "\n",
        "Input: [34, 3, 31, 98, 92, 23]\n",
        "\n",
        "Output: [3, 23, 31, 34, 92, 98]"
      ],
      "metadata": {
        "id": "TM60P_mDcBQi"
      }
    },
    {
      "cell_type": "code",
      "source": [
        "def sort(og_stk):\n",
        "  temp_stk=[]\n",
        "  while og_stk:\n",
        "    temp=og_stk.pop()\n",
        "    while temp_stk and temp_stk[-1]>temp:\n",
        "      og_stk.append(temp_stk.pop())\n",
        "    temp_stk.append(temp)\n",
        "  return temp_stk\n",
        "og_stk=[34,3,31,98,92,23]\n",
        "sort(og_stk)"
      ],
      "metadata": {
        "colab": {
          "base_uri": "https://localhost:8080/"
        },
        "id": "C2AVSwC-cVry",
        "outputId": "a76b844f-cea0-4b7e-eb8e-15bc9b60baf0"
      },
      "execution_count": 14,
      "outputs": [
        {
          "output_type": "execute_result",
          "data": {
            "text/plain": [
              "[3, 23, 31, 34, 92, 98]"
            ]
          },
          "metadata": {},
          "execution_count": 14
        }
      ]
    }
  ]
}