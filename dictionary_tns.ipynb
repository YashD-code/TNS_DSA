{
  "nbformat": 4,
  "nbformat_minor": 0,
  "metadata": {
    "colab": {
      "provenance": [],
      "authorship_tag": "ABX9TyOV+JiZXMNksPreu5ic201j",
      "include_colab_link": true
    },
    "kernelspec": {
      "name": "python3",
      "display_name": "Python 3"
    },
    "language_info": {
      "name": "python"
    }
  },
  "cells": [
    {
      "cell_type": "markdown",
      "metadata": {
        "id": "view-in-github",
        "colab_type": "text"
      },
      "source": [
        "<a href=\"https://colab.research.google.com/github/YashD-code/TNS_DSA/blob/main/dictionary_tns.ipynb\" target=\"_parent\"><img src=\"https://colab.research.google.com/assets/colab-badge.svg\" alt=\"Open In Colab\"/></a>"
      ]
    },
    {
      "cell_type": "markdown",
      "source": [
        "##  Python Dictionaries — DSA Theory\n",
        "\n",
        "A **Dictionary** in Python is an **unordered, mutable collection of key-value pairs**.  \n",
        "It is used when you need to store data values where each value is associated with a unique key.\n",
        "\n",
        "---\n",
        "\n",
        "###  Characteristics:\n",
        "- **Unordered (pre Python 3.7)** and **Insertion Ordered (Python 3.7+)**\n",
        "- **Key-Value Pairs**: Each element is a pair — key and its corresponding value.\n",
        "- **Keys are unique**, values can be duplicate.\n",
        "- **Mutable**: Can add, modify, or delete key-value pairs.\n",
        "- **Heterogeneous**: Both keys and values can be of different data types.\n",
        "\n",
        "\n",
        "\n",
        "---\n",
        "\n",
        "###  Common Operations in Dictionaries:\n",
        "\n",
        "| Operation        | Description                                         |\n",
        "|:----------------|:----------------------------------------------------|\n",
        "| `get()`          | Returns value for a key, returns `None` if not found |\n",
        "| `keys()`         | Returns a list-like view of all keys                |\n",
        "| `values()`       | Returns a list-like view of all values              |\n",
        "| `items()`        | Returns a view of key-value pairs                   |\n",
        "| `update()`       | Updates one dictionary with another's key-value pairs|\n",
        "| `pop()`          | Removes a key and returns its value                 |\n",
        "| `popitem()`      | Removes and returns the last inserted item (key, value)|\n",
        "| `clear()`        | Removes all items from dictionary                   |\n",
        "| `copy()`         | Returns a shallow copy of the dictionary            |\n",
        "| `setdefault()`   | Returns value if key exists; otherwise sets a new key with a default value |\n",
        "| `del` keyword    | Removes a key-value pair or entire dictionary       |\n",
        "\n",
        "---\n",
        "\n"
      ],
      "metadata": {
        "id": "jEGeWYcZfi7J"
      }
    },
    {
      "cell_type": "markdown",
      "source": [
        "##Declaration of dictionary"
      ],
      "metadata": {
        "id": "xvldXj1I64uJ"
      }
    },
    {
      "cell_type": "code",
      "execution_count": 2,
      "metadata": {
        "colab": {
          "base_uri": "https://localhost:8080/"
        },
        "id": "tNqeOzkgfe26",
        "outputId": "feab4234-db38-4b39-b082-7aa6f94a5a02"
      },
      "outputs": [
        {
          "output_type": "stream",
          "name": "stdout",
          "text": [
            "{'name': 'Yash', 'age': 19, 'branch': 'CSE'}\n"
          ]
        }
      ],
      "source": [
        "dict={\"name\":\"Yash\",\"age\":19,\"branch\":\"CSE\"}\n",
        "print(dict)"
      ]
    },
    {
      "cell_type": "markdown",
      "source": [
        "## Functions of Dictionary"
      ],
      "metadata": {
        "id": "B-Yz5mXX7aJS"
      }
    },
    {
      "cell_type": "markdown",
      "source": [
        "### 1. get() — Fetch value by key safely"
      ],
      "metadata": {
        "id": "tkpWeJLR7bA7"
      }
    },
    {
      "cell_type": "code",
      "source": [
        "dict={\"name\":\"Yash\",\"age\":19,\"branch\":\"CSE\"}\n",
        "print(\"Name:\",dict.get(\"name\"))\n",
        "print(\"Salary:\",dict.get(\"salary\")) #false since its not present in dictionary"
      ],
      "metadata": {
        "colab": {
          "base_uri": "https://localhost:8080/"
        },
        "id": "QF4SDR6pfid9",
        "outputId": "55543068-6060-4dde-b1ab-28b5e949495c"
      },
      "execution_count": 6,
      "outputs": [
        {
          "output_type": "stream",
          "name": "stdout",
          "text": [
            "Name: Yash\n",
            "Salary: None\n"
          ]
        }
      ]
    },
    {
      "cell_type": "markdown",
      "source": [
        "###2.key()"
      ],
      "metadata": {
        "id": "87gtYxGD76zQ"
      }
    },
    {
      "cell_type": "code",
      "source": [
        "dict={\"name\":\"Yash\",\"age\":19,\"branch\":\"CSE\"}\n",
        "print(dict.keys())"
      ],
      "metadata": {
        "colab": {
          "base_uri": "https://localhost:8080/"
        },
        "id": "2S5nkmp38B7s",
        "outputId": "a77b984c-982a-48ff-9645-d8647c91fa47"
      },
      "execution_count": 10,
      "outputs": [
        {
          "output_type": "stream",
          "name": "stdout",
          "text": [
            "dict_keys(['name', 'age', 'branch'])\n"
          ]
        }
      ]
    },
    {
      "cell_type": "markdown",
      "source": [
        "###3.values()"
      ],
      "metadata": {
        "id": "iHMv4ctN7-jC"
      }
    },
    {
      "cell_type": "code",
      "source": [
        "dict={\"name\":\"Yash\",\"age\":19,\"branch\":\"CSE\"}\n",
        "print(dict.values())"
      ],
      "metadata": {
        "colab": {
          "base_uri": "https://localhost:8080/"
        },
        "id": "7LwVkbrfdGAi",
        "outputId": "e1f10928-b45e-4d88-8e30-b4c9cbfe8397"
      },
      "execution_count": 1,
      "outputs": [
        {
          "output_type": "stream",
          "name": "stdout",
          "text": [
            "dict_values(['Yash', 19, 'CSE'])\n"
          ]
        }
      ]
    },
    {
      "cell_type": "markdown",
      "source": [
        "###4.items()"
      ],
      "metadata": {
        "id": "CX_VUI4odV5g"
      }
    },
    {
      "cell_type": "code",
      "source": [
        "dict={\"name\":\"Yash\",\"age\":19,\"branch\":\"CSE\"}\n",
        "print(dict.items())"
      ],
      "metadata": {
        "colab": {
          "base_uri": "https://localhost:8080/"
        },
        "id": "OlxqNqdSdZwo",
        "outputId": "ce81ab65-4715-4656-dd0c-5317bd576eb4"
      },
      "execution_count": 2,
      "outputs": [
        {
          "output_type": "stream",
          "name": "stdout",
          "text": [
            "dict_items([('name', 'Yash'), ('age', 19), ('branch', 'CSE')])\n"
          ]
        }
      ]
    },
    {
      "cell_type": "markdown",
      "source": [
        "###5.update()"
      ],
      "metadata": {
        "id": "ETIQ9BFzdd4K"
      }
    },
    {
      "cell_type": "code",
      "source": [
        "dict={\"name\":\"Yash\",\"age\":19,\"branch\":\"CSE\"}\n",
        "dict.update({\"age\":20})\n",
        "print(dict)"
      ],
      "metadata": {
        "colab": {
          "base_uri": "https://localhost:8080/"
        },
        "id": "kQ5iDtoSdhgs",
        "outputId": "4007ce51-0c1b-4ac3-a4ba-6b31e9e2f1c8"
      },
      "execution_count": 3,
      "outputs": [
        {
          "output_type": "stream",
          "name": "stdout",
          "text": [
            "{'name': 'Yash', 'age': 20, 'branch': 'CSE'}\n"
          ]
        }
      ]
    },
    {
      "cell_type": "markdown",
      "source": [
        "###6.pop()"
      ],
      "metadata": {
        "id": "EUCZCPGMdyal"
      }
    },
    {
      "cell_type": "code",
      "source": [
        "dict={\"name\":\"Yash\",\"age\":19,\"branch\":\"CSE\"}\n",
        "print(\"Removed:\",dict.pop(\"age\"))\n",
        "print(dict)"
      ],
      "metadata": {
        "colab": {
          "base_uri": "https://localhost:8080/"
        },
        "id": "5RtTBf-_d0wC",
        "outputId": "c98df456-cf89-4f51-96b0-72e14fb70c7b"
      },
      "execution_count": 4,
      "outputs": [
        {
          "output_type": "stream",
          "name": "stdout",
          "text": [
            "Removed: 19\n",
            "{'name': 'Yash', 'branch': 'CSE'}\n"
          ]
        }
      ]
    },
    {
      "cell_type": "markdown",
      "source": [
        "###7.popitem()"
      ],
      "metadata": {
        "id": "lRlZZEWCeIQ0"
      }
    },
    {
      "cell_type": "code",
      "source": [
        "dict={\"name\":\"Yash\",\"age\":19,\"branch\":\"CSE\"}\n",
        "print(\"popped item:\",dict.popitem())\n",
        "print(dict)"
      ],
      "metadata": {
        "colab": {
          "base_uri": "https://localhost:8080/"
        },
        "id": "jEEIsWttePn-",
        "outputId": "a00eb9fd-e9a5-4264-f43f-77dade6e3bdf"
      },
      "execution_count": 5,
      "outputs": [
        {
          "output_type": "stream",
          "name": "stdout",
          "text": [
            "popped item: ('branch', 'CSE')\n",
            "{'name': 'Yash', 'age': 19}\n"
          ]
        }
      ]
    },
    {
      "cell_type": "markdown",
      "source": [
        "###8.clear()"
      ],
      "metadata": {
        "id": "kXDuuSPNefsV"
      }
    },
    {
      "cell_type": "code",
      "source": [
        "dict={\"name\":\"Yash\",\"age\":19,\"branch\":\"CSE\"}\n",
        "dict.clear()\n",
        "print(dict)"
      ],
      "metadata": {
        "colab": {
          "base_uri": "https://localhost:8080/"
        },
        "id": "pqF5anneeiHv",
        "outputId": "5bc45ece-c951-413d-9757-1ebfaa038db2"
      },
      "execution_count": 6,
      "outputs": [
        {
          "output_type": "stream",
          "name": "stdout",
          "text": [
            "{}\n"
          ]
        }
      ]
    },
    {
      "cell_type": "markdown",
      "source": [
        "###9.copy()"
      ],
      "metadata": {
        "id": "DnYtLb0Nek3b"
      }
    },
    {
      "cell_type": "code",
      "source": [
        "dict={\"name\":\"Yash\",\"age\":19,\"branch\":\"CSE\"}\n",
        "new_dict=dict.copy()\n",
        "print(\"New dictionary:\",new_dict)"
      ],
      "metadata": {
        "colab": {
          "base_uri": "https://localhost:8080/"
        },
        "id": "R-NXw8TPenfZ",
        "outputId": "4201a345-0c1e-45cf-9623-d4798fbffed5"
      },
      "execution_count": 7,
      "outputs": [
        {
          "output_type": "stream",
          "name": "stdout",
          "text": [
            "New dictionary: {'name': 'Yash', 'age': 19, 'branch': 'CSE'}\n"
          ]
        }
      ]
    },
    {
      "cell_type": "markdown",
      "source": [
        "###10.setdefault"
      ],
      "metadata": {
        "id": "Fa808zFefAy6"
      }
    },
    {
      "cell_type": "code",
      "source": [
        "dict={\"name\":\"Yash\",\"age\":19,\"branch\":\"CSE\"}\n",
        "dict.setdefault(\"country\",\"India\")\n",
        "print(dict)"
      ],
      "metadata": {
        "colab": {
          "base_uri": "https://localhost:8080/"
        },
        "id": "h7TmrG_zfDlT",
        "outputId": "46db8140-a74b-4e34-be0e-5d4d4670460d"
      },
      "execution_count": 9,
      "outputs": [
        {
          "output_type": "stream",
          "name": "stdout",
          "text": [
            "{'name': 'Yash', 'age': 19, 'branch': 'CSE', 'country': 'India'}\n"
          ]
        }
      ]
    },
    {
      "cell_type": "markdown",
      "source": [
        "###11.del()"
      ],
      "metadata": {
        "id": "sMD4knPdfS-p"
      }
    },
    {
      "cell_type": "code",
      "source": [
        "dict={\"name\":\"Yash\",\"age\":19,\"branch\":\"CSE\"}\n",
        "del dict[\"age\"]\n",
        "print(dict)"
      ],
      "metadata": {
        "colab": {
          "base_uri": "https://localhost:8080/"
        },
        "id": "s_9B5UrufjUr",
        "outputId": "80292829-9c1a-4bf1-c0d3-73a300844764"
      },
      "execution_count": 10,
      "outputs": [
        {
          "output_type": "stream",
          "name": "stdout",
          "text": [
            "{'name': 'Yash', 'branch': 'CSE'}\n"
          ]
        }
      ]
    },
    {
      "cell_type": "markdown",
      "source": [
        "#DSA Problems"
      ],
      "metadata": {
        "id": "xOdNvRn9fx8C"
      }
    },
    {
      "cell_type": "markdown",
      "source": [
        "## 1.Given a list of numbers, count how many times each number occurs using a dictionary.\n",
        "\n",
        "Example\n",
        "\n",
        "Input: [1, 2, 2, 3, 3, 3, 4]  \n",
        "Output: {1: 1, 2: 2, 3: 3, 4: 1}\n"
      ],
      "metadata": {
        "id": "m3HQ5xUCf0cr"
      }
    },
    {
      "cell_type": "code",
      "source": [
        "def freq(list):\n",
        "  count={}\n",
        "  for num in list:\n",
        "    if num not in count:\n",
        "      count[num]=1\n",
        "    else:\n",
        "      count[num]+=1\n",
        "  return count\n",
        "list=[1, 2, 2, 3, 3, 3, 4]\n",
        "print(freq(list))"
      ],
      "metadata": {
        "colab": {
          "base_uri": "https://localhost:8080/"
        },
        "id": "CcsFYFb9f3KF",
        "outputId": "ad66ab05-e4b5-4d42-eb5f-a0f8f905816e"
      },
      "execution_count": 13,
      "outputs": [
        {
          "output_type": "stream",
          "name": "stdout",
          "text": [
            "{1: 1, 2: 2, 3: 3, 4: 1}\n"
          ]
        }
      ]
    },
    {
      "cell_type": "markdown",
      "source": [
        "## 2. Find the Key with Maximum Value"
      ],
      "metadata": {
        "id": "bFP4uoMyguax"
      }
    },
    {
      "cell_type": "code",
      "source": [
        "marks = {\"John\": 45, \"Emma\": 88, \"Noah\": 77}\n",
        "topper=max(marks,key=marks.get)\n",
        "print(\"Topper:\",topper)"
      ],
      "metadata": {
        "colab": {
          "base_uri": "https://localhost:8080/"
        },
        "id": "tD79-ZXvf-J5",
        "outputId": "fbaace5d-4750-4cbb-c3f0-3424535b1857"
      },
      "execution_count": 15,
      "outputs": [
        {
          "output_type": "stream",
          "name": "stdout",
          "text": [
            "Topper: Emma\n"
          ]
        }
      ]
    },
    {
      "cell_type": "markdown",
      "source": [
        "### 3. Merge Two Dictionaries\n",
        "dict1 = {\"a\": 1, \"b\": 2}\n",
        "dict2 = {\"b\": 3, \"c\": 4}\n",
        "\n",
        "Output: {'a': 1, 'b': 3, 'c': 4}\n"
      ],
      "metadata": {
        "id": "k4HY1kaahR6I"
      }
    },
    {
      "cell_type": "code",
      "source": [
        "dict1 = {\"a\": 1, \"b\": 2}\n",
        "dict2 = {\"b\": 3, \"c\": 4}\n",
        "dict1.update(dict2)\n",
        "print(dict1)"
      ],
      "metadata": {
        "colab": {
          "base_uri": "https://localhost:8080/"
        },
        "id": "hBjQP2hbhSlH",
        "outputId": "d4244f44-a75f-4b6f-c093-a3887d8ae710"
      },
      "execution_count": 16,
      "outputs": [
        {
          "output_type": "stream",
          "name": "stdout",
          "text": [
            "{'a': 1, 'b': 3, 'c': 4}\n"
          ]
        }
      ]
    },
    {
      "cell_type": "markdown",
      "source": [
        "### 4. Invert a Dictionary (Swap Keys and Values)\n",
        "\n",
        "Example:\n",
        "\n",
        "Input: {'a': 1, 'b': 2, 'c': 3}  \n",
        "Output: {1: 'a', 2: 'b', 3: 'c'}"
      ],
      "metadata": {
        "id": "pDG-Y66OhhBf"
      }
    },
    {
      "cell_type": "code",
      "source": [
        "dict={'a': 1, 'b': 2, 'c': 3}\n",
        "dict2={}\n",
        "for key,value in dict.items():\n",
        "  dict2[value]=key\n",
        "print(dict2)\n"
      ],
      "metadata": {
        "colab": {
          "base_uri": "https://localhost:8080/"
        },
        "id": "Q7HBI1-1hh2B",
        "outputId": "566811df-37f3-4b74-d59e-c0157ccedeb8"
      },
      "execution_count": 18,
      "outputs": [
        {
          "output_type": "stream",
          "name": "stdout",
          "text": [
            "{1: 'a', 2: 'b', 3: 'c'}\n"
          ]
        }
      ]
    },
    {
      "cell_type": "markdown",
      "source": [
        "## 5. Check if Two Dictionaries are Equal\n",
        "\n",
        "Example\n",
        "\n",
        "Input:\n",
        "dict1 = {\"a\": 1, \"b\": 2}\n",
        "dict2 = {\"b\": 2, \"a\": 1}\n",
        "\n",
        "Output: True\n",
        "\n",
        "Input:\n",
        "dict1 = {\"a\": 1, \"b\": 2}\n",
        "dict2 = {\"a\": 2, \"b\": 1}\n",
        "\n",
        "Output: False\n"
      ],
      "metadata": {
        "id": "gAfwWxtRiIYm"
      }
    },
    {
      "cell_type": "code",
      "source": [
        "dict1 = {\"a\": 1, \"b\": 2}\n",
        "dict2 = {\"b\": 2, \"a\": 1}\n",
        "print(dict1==dict2)\n",
        "dict2 = {\"a\": 2, \"b\": 1}\n",
        "print(dict1==dict2)"
      ],
      "metadata": {
        "colab": {
          "base_uri": "https://localhost:8080/"
        },
        "id": "N5_TT4KniJFA",
        "outputId": "2870e83a-dbda-4121-c9ea-d719606aa878"
      },
      "execution_count": 23,
      "outputs": [
        {
          "output_type": "stream",
          "name": "stdout",
          "text": [
            "True\n",
            "False\n"
          ]
        }
      ]
    }
  ]
}