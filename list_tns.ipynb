{
  "nbformat": 4,
  "nbformat_minor": 0,
  "metadata": {
    "colab": {
      "provenance": [],
      "authorship_tag": "ABX9TyM3GJiVKQ04GIPzGXuLF8NC",
      "include_colab_link": true
    },
    "kernelspec": {
      "name": "python3",
      "display_name": "Python 3"
    },
    "language_info": {
      "name": "python"
    }
  },
  "cells": [
    {
      "cell_type": "markdown",
      "metadata": {
        "id": "view-in-github",
        "colab_type": "text"
      },
      "source": [
        "<a href=\"https://colab.research.google.com/github/YashD-code/TNS_DSA/blob/main/list_tns.ipynb\" target=\"_parent\"><img src=\"https://colab.research.google.com/assets/colab-badge.svg\" alt=\"Open In Colab\"/></a>"
      ]
    },
    {
      "cell_type": "markdown",
      "source": [
        "#  Python Lists — DSA Theory\n",
        "\n",
        "A **List** in Python is a **dynamic, ordered, mutable sequence** of elements.\n",
        "\n",
        "##  Characteristics:\n",
        "\n",
        "* **Indexed:** Items are accessed via zero-based index.\n",
        "* **Mutable:** You can modify, add, or remove elements.\n",
        "* **Allows Duplicates:** Lists can have multiple occurrences of the same value.\n",
        "* **Heterogeneous:** Can store elements of different data types.\n",
        "* **Dynamic Size:** Lists can grow or shrink as needed during execution.\n",
        "\n",
        "---\n",
        "\n",
        "## Common Operations in Lists:\n",
        "\n",
        "| Operation         | Description                                      |\n",
        "| :---------------- | :----------------------------------------------- |\n",
        "| `append()`        | Add an element at the end                        |\n",
        "| `extend()`        | Add multiple elements from another iterable      |\n",
        "| `insert()`        | Insert an element at a specified position        |\n",
        "| `remove()`        | Remove the first occurrence of a specified value |\n",
        "| `pop()`           | Remove and return an element at a given index    |\n",
        "| `clear()`         | Remove all elements from the list                |\n",
        "| `index()`         | Return the first index of a specified value      |\n",
        "| `count()`         | Count the number of occurrences of a value       |\n",
        "| `reverse()`       | Reverse the list in-place                        |\n",
        "| `sort()`          | Sort the list in ascending order (by default)    |\n",
        "| `copy()`          | Return a shallow copy of the list                |\n",
        "| `len()`           | Return the number of elements in the list        |\n",
        "| `sum()`           | Return the sum of all numeric elements           |\n",
        "| `max()` / `min()` | Return the largest or smallest element           |\n",
        "\n",
        "---\n",
        "\n",
        "                                                                         "
      ],
      "metadata": {
        "id": "UYzi4Q1dW8p6"
      }
    },
    {
      "cell_type": "markdown",
      "source": [
        "##Creating list"
      ],
      "metadata": {
        "id": "wz13SKbEbnfM"
      }
    },
    {
      "cell_type": "code",
      "execution_count": 2,
      "metadata": {
        "colab": {
          "base_uri": "https://localhost:8080/"
        },
        "id": "OI-zAuDhWofe",
        "outputId": "fd4e2bb0-0787-486d-e0a1-c9e3f4ca4beb"
      },
      "outputs": [
        {
          "output_type": "stream",
          "name": "stdout",
          "text": [
            "List: [10, 20, 30, 40, 50, 60]\n"
          ]
        }
      ],
      "source": [
        "list=[10,20,30,40,50,60]\n",
        "print(\"List:\",list)"
      ]
    },
    {
      "cell_type": "markdown",
      "source": [
        "##1.append()"
      ],
      "metadata": {
        "id": "WihCyqGVcAVH"
      }
    },
    {
      "cell_type": "code",
      "source": [
        "list=[10,20,30,40,50,60]\n",
        "list.append(70)\n",
        "print(\"List:\",list)"
      ],
      "metadata": {
        "colab": {
          "base_uri": "https://localhost:8080/"
        },
        "id": "1anhdWIdcDX7",
        "outputId": "4392cd8f-54ce-4c4c-ce4f-aeb82a4a2709"
      },
      "execution_count": 3,
      "outputs": [
        {
          "output_type": "stream",
          "name": "stdout",
          "text": [
            "List: [10, 20, 30, 40, 50, 60, 70]\n"
          ]
        }
      ]
    },
    {
      "cell_type": "markdown",
      "source": [
        "##2.extend()"
      ],
      "metadata": {
        "id": "gAZWuNwZcMMf"
      }
    },
    {
      "cell_type": "code",
      "source": [
        "list=[10,20,30,40,50,60]\n",
        "list.extend([70,80,90])\n",
        "print(\"List:\",list)"
      ],
      "metadata": {
        "colab": {
          "base_uri": "https://localhost:8080/"
        },
        "id": "dyrLC3__cOnn",
        "outputId": "af93f07f-295b-4d44-d016-d8c0ac65f27f"
      },
      "execution_count": 4,
      "outputs": [
        {
          "output_type": "stream",
          "name": "stdout",
          "text": [
            "List: [10, 20, 30, 40, 50, 60, 70, 80, 90]\n"
          ]
        }
      ]
    },
    {
      "cell_type": "markdown",
      "source": [
        "##4.insert()"
      ],
      "metadata": {
        "id": "nkcyMNtAdDOp"
      }
    },
    {
      "cell_type": "code",
      "source": [
        "list=[10,20,30,40,50,60]\n",
        "list.insert(4,100)\n",
        "print(\"List:\",list)"
      ],
      "metadata": {
        "colab": {
          "base_uri": "https://localhost:8080/"
        },
        "id": "-BxNaHmrdFLx",
        "outputId": "322c1ae7-634a-49c5-af4f-05e10d5985b4"
      },
      "execution_count": 6,
      "outputs": [
        {
          "output_type": "stream",
          "name": "stdout",
          "text": [
            "List: [10, 20, 30, 40, 100, 50, 60]\n"
          ]
        }
      ]
    },
    {
      "cell_type": "markdown",
      "source": [
        "##5.remove()"
      ],
      "metadata": {
        "id": "M_Nbx7lldXaF"
      }
    },
    {
      "cell_type": "code",
      "source": [
        "list=[10,20,30,40,50,60]\n",
        "list.remove(60)\n",
        "print(\"List:\",list)"
      ],
      "metadata": {
        "colab": {
          "base_uri": "https://localhost:8080/"
        },
        "id": "41ZbmQA6dZzS",
        "outputId": "3d01c753-5bad-42e6-d54c-63249ec65000"
      },
      "execution_count": 8,
      "outputs": [
        {
          "output_type": "stream",
          "name": "stdout",
          "text": [
            "List: [10, 20, 30, 40, 50]\n"
          ]
        }
      ]
    },
    {
      "cell_type": "markdown",
      "source": [
        "##6.pop()"
      ],
      "metadata": {
        "id": "5ajkxKmVdlWZ"
      }
    },
    {
      "cell_type": "code",
      "source": [
        "list=[10,20,30,40,50,60]\n",
        "num=list.pop(2)\n",
        "print(\"List:\",list)\n",
        "print(\"Popped Number:\",num)"
      ],
      "metadata": {
        "colab": {
          "base_uri": "https://localhost:8080/"
        },
        "id": "korqOMqKedDj",
        "outputId": "0b083996-75f1-4fa1-bac7-9377c6d65e69"
      },
      "execution_count": 10,
      "outputs": [
        {
          "output_type": "stream",
          "name": "stdout",
          "text": [
            "List: [10, 20, 40, 50, 60]\n",
            "Popped Number: 30\n"
          ]
        }
      ]
    },
    {
      "cell_type": "markdown",
      "source": [
        "##7.clear()\n"
      ],
      "metadata": {
        "id": "awS8PyP-es8Q"
      }
    },
    {
      "cell_type": "code",
      "source": [
        "list=[10,20,30,40,50,60]\n",
        "list.clear()\n",
        "print(\"List:\",list)"
      ],
      "metadata": {
        "colab": {
          "base_uri": "https://localhost:8080/"
        },
        "id": "7ZYhWEH9e1Cs",
        "outputId": "092bee86-105f-405a-a62a-ce19baeceab2"
      },
      "execution_count": 11,
      "outputs": [
        {
          "output_type": "stream",
          "name": "stdout",
          "text": [
            "List: []\n"
          ]
        }
      ]
    },
    {
      "cell_type": "markdown",
      "source": [
        "##8.index()"
      ],
      "metadata": {
        "id": "JGdIxQQ4e91K"
      }
    },
    {
      "cell_type": "code",
      "source": [
        "list=[10,20,30,40,50,60]\n",
        "index=list.index(40)\n",
        "print(\"Index:\",index)"
      ],
      "metadata": {
        "colab": {
          "base_uri": "https://localhost:8080/"
        },
        "id": "TzfAbIEgfBJZ",
        "outputId": "83cddc5a-2f09-470c-a895-d943b9108551"
      },
      "execution_count": 13,
      "outputs": [
        {
          "output_type": "stream",
          "name": "stdout",
          "text": [
            "index: 3\n"
          ]
        }
      ]
    },
    {
      "cell_type": "markdown",
      "source": [
        "##9.count()"
      ],
      "metadata": {
        "id": "PCt5U_HhfS04"
      }
    },
    {
      "cell_type": "code",
      "source": [
        "list=[10,20,30,40,50,60,20,20]\n",
        "count=list.count(20)\n",
        "print(\"Count:\",count)"
      ],
      "metadata": {
        "colab": {
          "base_uri": "https://localhost:8080/"
        },
        "id": "f8KwXfHVfVHH",
        "outputId": "a3e71bac-ff26-4128-d818-494fe90b590c"
      },
      "execution_count": 14,
      "outputs": [
        {
          "output_type": "stream",
          "name": "stdout",
          "text": [
            "Count: 3\n"
          ]
        }
      ]
    },
    {
      "cell_type": "markdown",
      "source": [
        "##10.reverse()"
      ],
      "metadata": {
        "id": "AiPSeriefgbD"
      }
    },
    {
      "cell_type": "code",
      "source": [
        "list=[10,20,30,40,50,60]\n",
        "list.reverse()\n",
        "print(\"List:\",list)"
      ],
      "metadata": {
        "colab": {
          "base_uri": "https://localhost:8080/"
        },
        "id": "dLuwEq2gfmCx",
        "outputId": "aa662275-9316-446a-f20d-3e426dd803ee"
      },
      "execution_count": 15,
      "outputs": [
        {
          "output_type": "stream",
          "name": "stdout",
          "text": [
            "List: [60, 50, 40, 30, 20, 10]\n"
          ]
        }
      ]
    },
    {
      "cell_type": "markdown",
      "source": [
        "##11.sort()"
      ],
      "metadata": {
        "id": "lWOJNUPNfm2M"
      }
    },
    {
      "cell_type": "code",
      "source": [
        "list=[60,50,40,30,20,10]\n",
        "list.sort()\n",
        "print(\"List:\",list)"
      ],
      "metadata": {
        "colab": {
          "base_uri": "https://localhost:8080/"
        },
        "id": "lapieZrxfpGC",
        "outputId": "22950333-ba78-4c3f-f7fc-77350a6070e5"
      },
      "execution_count": 16,
      "outputs": [
        {
          "output_type": "stream",
          "name": "stdout",
          "text": [
            "List: [10, 20, 30, 40, 50, 60]\n"
          ]
        }
      ]
    },
    {
      "cell_type": "markdown",
      "source": [
        "##12.copy()"
      ],
      "metadata": {
        "id": "GOS3cQrkfpXS"
      }
    },
    {
      "cell_type": "code",
      "source": [
        "list=[10,20,30,40,50,60]\n",
        "copy_list=list.copy()\n",
        "print(\"Copied List:\",copy_list)"
      ],
      "metadata": {
        "colab": {
          "base_uri": "https://localhost:8080/"
        },
        "id": "xHDh1DMFf84z",
        "outputId": "0e0da9fd-86bc-4996-ebd5-a66a623064f1"
      },
      "execution_count": 17,
      "outputs": [
        {
          "output_type": "stream",
          "name": "stdout",
          "text": [
            "Copied List: [10, 20, 30, 40, 50, 60]\n"
          ]
        }
      ]
    },
    {
      "cell_type": "markdown",
      "source": [
        "##13.len()"
      ],
      "metadata": {
        "id": "ZCNBNcQIgR-5"
      }
    },
    {
      "cell_type": "code",
      "source": [
        "list=[10,20,30,40,50,60]\n",
        "print(\"Length:\",len(list))"
      ],
      "metadata": {
        "colab": {
          "base_uri": "https://localhost:8080/"
        },
        "id": "rXBXWLDngUO8",
        "outputId": "8f2a72a3-72c4-442d-e549-59afe4077c02"
      },
      "execution_count": 18,
      "outputs": [
        {
          "output_type": "stream",
          "name": "stdout",
          "text": [
            "Length: 6\n"
          ]
        }
      ]
    },
    {
      "cell_type": "markdown",
      "source": [
        "##14.sum()"
      ],
      "metadata": {
        "id": "SaipxZzSgYWw"
      }
    },
    {
      "cell_type": "code",
      "source": [
        "list=[10,20,30,40,50,60]\n",
        "print(\"Sum of List:\",sum(list))"
      ],
      "metadata": {
        "colab": {
          "base_uri": "https://localhost:8080/"
        },
        "id": "Y8QLd_xRgahs",
        "outputId": "9bf061bf-cacf-42b2-c9ec-61bad4621e11"
      },
      "execution_count": 19,
      "outputs": [
        {
          "output_type": "stream",
          "name": "stdout",
          "text": [
            "Sum of List: 210\n"
          ]
        }
      ]
    },
    {
      "cell_type": "markdown",
      "source": [
        "##15.min()/max()"
      ],
      "metadata": {
        "id": "mG6b-GLcgfnH"
      }
    },
    {
      "cell_type": "code",
      "source": [
        "list=[10,20,30,40,50,60]\n",
        "print(\"Max:\",max(list))\n",
        "print(\"Min:\",min(list))"
      ],
      "metadata": {
        "colab": {
          "base_uri": "https://localhost:8080/"
        },
        "id": "OXp4L5P3gi2m",
        "outputId": "f5940df5-02ba-4148-b303-5248df775c5b"
      },
      "execution_count": 20,
      "outputs": [
        {
          "output_type": "stream",
          "name": "stdout",
          "text": [
            "Max: 60\n",
            "Min: 10\n"
          ]
        }
      ]
    },
    {
      "cell_type": "markdown",
      "source": [
        "# Problem Statement: List Operations\n",
        "## Problem:\n",
        "\n",
        "### A. You are given a list of integers. Write a Python program to perform the following operations sequentially:\n",
        "\n",
        "1. Append the number 100 to the end of the list.\n",
        "\n",
        "2. Insert the number 50 at the 3rd position (index 2).\n",
        "\n",
        "3. Remove the first occurrence of the number 20.\n",
        "\n",
        "4. Count how many times 10 appears in the list.\n",
        "\n",
        "5. Reverse the list.\n",
        "\n",
        "6. Sort the list in ascending order.\n",
        "\n",
        "7. Find the maximum and minimum values in the list.\n",
        "\n",
        "8. Calculate the sum of all elements in the list.\n",
        "\n",
        "\n",
        "\n",
        "\n",
        "\n",
        "\n",
        "\n",
        "\n",
        "\n",
        "\n",
        "\n"
      ],
      "metadata": {
        "id": "DUIK0rgZg29u"
      }
    },
    {
      "cell_type": "code",
      "source": [
        "list=[10,20,30,40,50]\n",
        "list.append(100)\n",
        "print(\"List:\",list)\n",
        "list.insert(2,50)\n",
        "print(\"List:\",list)\n",
        "list.remove(20)\n",
        "print(\"List:\",list)\n",
        "print(\"Count:\",list.count(10))\n",
        "list.reverse()\n",
        "print(\"List:\",list)\n",
        "list.sort()\n",
        "print(\"List:\",list)\n",
        "print(\"Max:\",max(list))\n",
        "print(\"Min:\",min(list))\n",
        "print(\"Sum:\",sum(list))\n"
      ],
      "metadata": {
        "colab": {
          "base_uri": "https://localhost:8080/"
        },
        "id": "eH5blKMUg4iK",
        "outputId": "52be1fa5-e70e-41b5-c3bd-b217671cedf3"
      },
      "execution_count": 23,
      "outputs": [
        {
          "output_type": "stream",
          "name": "stdout",
          "text": [
            "List: [10, 20, 30, 40, 50, 100]\n",
            "List: [10, 20, 50, 30, 40, 50, 100]\n",
            "List: [10, 50, 30, 40, 50, 100]\n",
            "Count: 1\n",
            "List: [100, 50, 40, 30, 50, 10]\n",
            "List: [10, 30, 40, 50, 50, 100]\n",
            "Max: 100\n",
            "Min: 10\n",
            "Sum: 280\n"
          ]
        }
      ]
    }
  ]
}