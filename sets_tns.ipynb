{
  "cells": [
    {
      "cell_type": "markdown",
      "metadata": {
        "id": "view-in-github",
        "colab_type": "text"
      },
      "source": [
        "<a href=\"https://colab.research.google.com/github/YashD-code/TNS_DSA/blob/main/sets_tns.ipynb\" target=\"_parent\"><img src=\"https://colab.research.google.com/assets/colab-badge.svg\" alt=\"Open In Colab\"/></a>"
      ]
    },
    {
      "cell_type": "markdown",
      "metadata": {
        "id": "_uOvtbCpJqhe"
      },
      "source": [
        "##  Python Sets — DSA Theory\n",
        "\n",
        "A **Set** in Python is an **unordered, unindexed, mutable collection of unique elements**.  \n",
        "It is used when you need to store **non-duplicate data items** efficiently and perform fast membership tests.\n",
        "\n",
        "---\n",
        "\n",
        "### 📌 Characteristics:\n",
        "- **Unordered:** No fixed order of elements.\n",
        "- **No Duplicates:** Only unique elements are stored.\n",
        "- **Mutable:** Can add or remove elements.\n",
        "- **Heterogeneous:** Can store elements of different data types.\n",
        "\n",
        "\n",
        "---\n",
        "\n",
        "### 📌 Common Operations in Sets:\n",
        "\n",
        "| Operation        | Description                                        |\n",
        "|:----------------|:--------------------------------------------------|\n",
        "| `add()`          | Adds a single element to the set                   |\n",
        "| `update()`       | Adds multiple elements from an iterable            |\n",
        "| `remove()`       | Removes a specified element (KeyError if not found)|\n",
        "| `discard()`      | Removes a specified element (no error if missing)  |\n",
        "| `pop()`          | Removes and returns a random element               |\n",
        "| `clear()`        | Removes all elements from the set                  |\n",
        "| `union()`        | Returns a new set with elements from both sets     |\n",
        "| `intersection()` | Returns common elements between sets               |\n",
        "| `difference()`   | Returns elements in one set but not the other      |\n",
        "| `symmetric_difference()` | Returns elements not common to both sets   |\n",
        "| `issubset()`     | Checks if one set is a subset of another           |\n",
        "| `issuperset()`   | Checks if one set is a superset of another         |\n",
        "| `len()`          | Returns the number of elements in the set          |\n",
        "\n",
        "---\n",
        "\n"
      ]
    },
    {
      "cell_type": "markdown",
      "metadata": {
        "id": "sIMLwcw9KWvt"
      },
      "source": [
        "## 1. Declaring a Set"
      ]
    },
    {
      "cell_type": "code",
      "execution_count": 10,
      "metadata": {
        "id": "lideQfBkKbkj",
        "colab": {
          "base_uri": "https://localhost:8080/"
        },
        "outputId": "baefbaea-d4c1-4099-9ab3-9e756bbde4f3"
      },
      "outputs": [
        {
          "output_type": "stream",
          "name": "stdout",
          "text": [
            "Initial Set: {1, 2, 3, 4, 5}\n"
          ]
        }
      ],
      "source": [
        "\n",
        "my_set = {1, 2, 3, 4, 5}\n",
        "print(\"Initial Set:\", my_set)\n"
      ]
    },
    {
      "cell_type": "markdown",
      "metadata": {
        "id": "u2yhr-Y8KnO5"
      },
      "source": [
        "# Functions in Set"
      ]
    },
    {
      "cell_type": "markdown",
      "metadata": {
        "id": "L6Td7MVEKp9E"
      },
      "source": [
        "## 1. add ()"
      ]
    },
    {
      "cell_type": "code",
      "execution_count": 11,
      "metadata": {
        "id": "dWjA_gOpKvwY",
        "outputId": "da7e2e4d-e72c-42e0-eceb-736f23ae4958",
        "colab": {
          "base_uri": "https://localhost:8080/"
        }
      },
      "outputs": [
        {
          "output_type": "stream",
          "name": "stdout",
          "text": [
            "After add: {1, 2, 3, 4}\n"
          ]
        }
      ],
      "source": [
        "my_set = {1, 2, 3}\n",
        "my_set.add(4)\n",
        "print(\"After add:\", my_set)\n"
      ]
    },
    {
      "cell_type": "markdown",
      "metadata": {
        "id": "LBptyATXKzOD"
      },
      "source": [
        "## 2. update ()"
      ]
    },
    {
      "cell_type": "code",
      "execution_count": 12,
      "metadata": {
        "colab": {
          "base_uri": "https://localhost:8080/"
        },
        "id": "ECbgN_YyLD3W",
        "outputId": "21036f50-4f5a-4251-af41-0944e69c52c1"
      },
      "outputs": [
        {
          "output_type": "stream",
          "name": "stdout",
          "text": [
            "After update: {1, 2, 3, 4, 5}\n"
          ]
        }
      ],
      "source": [
        "my_set = {1, 2}\n",
        "my_set.update([3, 4, 5])\n",
        "print(\"After update:\", my_set)\n"
      ]
    },
    {
      "cell_type": "markdown",
      "metadata": {
        "id": "QJsbBA3nLIR8"
      },
      "source": [
        "## 3. remove ()"
      ]
    },
    {
      "cell_type": "code",
      "execution_count": 13,
      "metadata": {
        "colab": {
          "base_uri": "https://localhost:8080/"
        },
        "id": "bz3rZFUmLZMN",
        "outputId": "41e5043d-93dc-444a-fa46-2916d4edd9d9"
      },
      "outputs": [
        {
          "output_type": "stream",
          "name": "stdout",
          "text": [
            "After remove: {1, 2}\n"
          ]
        }
      ],
      "source": [
        "my_set = {1, 2, 3}\n",
        "my_set.remove(3)\n",
        "print(\"After remove:\", my_set)\n"
      ]
    },
    {
      "cell_type": "markdown",
      "metadata": {
        "id": "DXOXt6BQLa2j"
      },
      "source": [
        "## 4. discard ()"
      ]
    },
    {
      "cell_type": "code",
      "execution_count": 14,
      "metadata": {
        "colab": {
          "base_uri": "https://localhost:8080/"
        },
        "id": "Spj7PTLTLesU",
        "outputId": "cbeeaf31-bd05-41c4-9963-e292afea2889"
      },
      "outputs": [
        {
          "output_type": "stream",
          "name": "stdout",
          "text": [
            "After discard: {1, 2, 3}\n"
          ]
        }
      ],
      "source": [
        "my_set = {1, 2, 3}\n",
        "my_set.discard(5)  # Won't raise error\n",
        "print(\"After discard:\", my_set)\n"
      ]
    },
    {
      "cell_type": "markdown",
      "metadata": {
        "id": "mU1wIePjLqpZ"
      },
      "source": [
        "## 5. pop ()"
      ]
    },
    {
      "cell_type": "code",
      "execution_count": 15,
      "metadata": {
        "colab": {
          "base_uri": "https://localhost:8080/"
        },
        "id": "JTvHUx7GLu1u",
        "outputId": "98b081a2-bf1c-445b-ef80-545a11667fc1"
      },
      "outputs": [
        {
          "output_type": "stream",
          "name": "stdout",
          "text": [
            "Removed item: 10\n",
            "After pop: {20, 30}\n"
          ]
        }
      ],
      "source": [
        "my_set = {10, 20, 30}\n",
        "removed_item = my_set.pop()\n",
        "print(\"Removed item:\", removed_item)\n",
        "print(\"After pop:\", my_set)\n"
      ]
    },
    {
      "cell_type": "markdown",
      "metadata": {
        "id": "s3I0PslHL0oG"
      },
      "source": [
        "## 6. Clear ()"
      ]
    },
    {
      "cell_type": "code",
      "execution_count": 16,
      "metadata": {
        "id": "dW_r-iinL-vn",
        "colab": {
          "base_uri": "https://localhost:8080/"
        },
        "outputId": "0eb09a56-f9a9-4f34-933d-668c1b778893"
      },
      "outputs": [
        {
          "output_type": "stream",
          "name": "stdout",
          "text": [
            "After clear: set()\n"
          ]
        }
      ],
      "source": [
        "my_set = {1, 2, 3}\n",
        "my_set.clear()\n",
        "print(\"After clear:\", my_set)"
      ]
    },
    {
      "cell_type": "markdown",
      "metadata": {
        "id": "WooA7tlXMcVN"
      },
      "source": [
        "##7. Union ()"
      ]
    },
    {
      "cell_type": "code",
      "execution_count": 17,
      "metadata": {
        "colab": {
          "base_uri": "https://localhost:8080/"
        },
        "id": "HweABzHVNLCR",
        "outputId": "b840f985-2891-4ad9-9909-9c972ed5b92f"
      },
      "outputs": [
        {
          "output_type": "stream",
          "name": "stdout",
          "text": [
            "Union: {1, 2, 3, 4, 5}\n"
          ]
        }
      ],
      "source": [
        "set1 = {1, 2, 3}\n",
        "set2 = {3, 4, 5}\n",
        "result = set1.union(set2)\n",
        "print(\"Union:\", result)\n"
      ]
    },
    {
      "cell_type": "markdown",
      "metadata": {
        "id": "h2yZJaWsNVuk"
      },
      "source": [
        "## 8. Intersection ()"
      ]
    },
    {
      "cell_type": "code",
      "execution_count": 18,
      "metadata": {
        "colab": {
          "base_uri": "https://localhost:8080/"
        },
        "id": "nPQl0f__Nd2W",
        "outputId": "a6ae9d2b-edd3-47a0-940b-abe4dea8e507"
      },
      "outputs": [
        {
          "output_type": "stream",
          "name": "stdout",
          "text": [
            "Intersection: {2, 3}\n"
          ]
        }
      ],
      "source": [
        "set1 = {1, 2, 3}\n",
        "set2 = {2, 3, 4}\n",
        "result = set1.intersection(set2)\n",
        "print(\"Intersection:\", result)\n"
      ]
    },
    {
      "cell_type": "markdown",
      "metadata": {
        "id": "Fk9c75UwNwiy"
      },
      "source": [
        "## 9. symmetric_difference()"
      ]
    },
    {
      "cell_type": "code",
      "execution_count": 19,
      "metadata": {
        "colab": {
          "base_uri": "https://localhost:8080/"
        },
        "id": "ntFAL390Oy-R",
        "outputId": "6df0ac94-3e5a-420a-8cf0-9b8040bdbeb9"
      },
      "outputs": [
        {
          "output_type": "stream",
          "name": "stdout",
          "text": [
            "Symmetric Difference: {1}\n"
          ]
        }
      ],
      "source": [
        "set1 = {1, 2, 3}\n",
        "set2 = {2, 3, 4}\n",
        "result = set1.difference(set2)\n",
        "print(\"Symmetric Difference:\", result)\n"
      ]
    },
    {
      "cell_type": "markdown",
      "metadata": {
        "id": "CBzC3FyoO2SU"
      },
      "source": [
        "## 10. issubset()"
      ]
    },
    {
      "cell_type": "code",
      "execution_count": 20,
      "metadata": {
        "colab": {
          "base_uri": "https://localhost:8080/"
        },
        "id": "-7785GjIPHpR",
        "outputId": "bbf2c61c-ac6a-4089-fa44-f127d31508a7"
      },
      "outputs": [
        {
          "output_type": "stream",
          "name": "stdout",
          "text": [
            "Is set1 subset of set2? True\n"
          ]
        }
      ],
      "source": [
        "set1 = {1, 2}\n",
        "set2 = {1, 2, 3}\n",
        "print(\"Is set1 subset of set2?\", set1.issubset(set2))\n"
      ]
    },
    {
      "cell_type": "markdown",
      "metadata": {
        "id": "cnRT-eOzPYcj"
      },
      "source": [
        "## 11. issuperset()"
      ]
    },
    {
      "cell_type": "code",
      "execution_count": 21,
      "metadata": {
        "colab": {
          "base_uri": "https://localhost:8080/"
        },
        "id": "nkjVovguP9DT",
        "outputId": "4b0aa3d3-aa26-4c81-b121-60d22cab88d8"
      },
      "outputs": [
        {
          "output_type": "stream",
          "name": "stdout",
          "text": [
            "Is set1 superset of set2? False\n"
          ]
        }
      ],
      "source": [
        "set1 = {1, 2, 3}\n",
        "set2 = {2, 3}\n",
        "print(\"Is set1 superset of set2?\", set2.issuperset(set1))\n"
      ]
    },
    {
      "cell_type": "markdown",
      "metadata": {
        "id": "0wOoQyeSQXfW"
      },
      "source": [
        "## 12. len()"
      ]
    },
    {
      "cell_type": "code",
      "execution_count": 22,
      "metadata": {
        "id": "BjrdAIlGQjax",
        "colab": {
          "base_uri": "https://localhost:8080/"
        },
        "outputId": "a6cd6a42-bea2-4c2d-ddf1-9b6ca41c9bb7"
      },
      "outputs": [
        {
          "output_type": "stream",
          "name": "stdout",
          "text": [
            "Length of set: 4\n"
          ]
        }
      ],
      "source": [
        "my_set = {10, 20, 30, 40}\n",
        "print(\"Length of set:\", len(my_set))\n"
      ]
    },
    {
      "cell_type": "markdown",
      "metadata": {
        "id": "iw2yci-_dsBo"
      },
      "source": [
        "## DSA Questions"
      ]
    },
    {
      "cell_type": "markdown",
      "metadata": {
        "id": "_rlXtuhSeCol"
      },
      "source": [
        "1. Remove Duplicates from a List Using Set"
      ]
    },
    {
      "cell_type": "code",
      "execution_count": 23,
      "metadata": {
        "colab": {
          "base_uri": "https://localhost:8080/"
        },
        "id": "mU83yA_TeZAM",
        "outputId": "a41e5642-7077-49a5-dbbc-b3cf4169ab98"
      },
      "outputs": [
        {
          "output_type": "stream",
          "name": "stdout",
          "text": [
            "Unique numbers: [1, 2, 3, 4, 5]\n"
          ]
        }
      ],
      "source": [
        "# Given list\n",
        "numbers = [1, 2, 3, 2, 4, 1, 5]\n",
        "\n",
        "# Remove duplicates by converting list to set and back to list\n",
        "unique_numbers = list(set(numbers))\n",
        "\n",
        "# Print unique numbers\n",
        "print(\"Unique numbers:\", unique_numbers)\n"
      ]
    },
    {
      "cell_type": "markdown",
      "metadata": {
        "id": "yWjjYKD-ea5K"
      },
      "source": [
        "2. Check if Two Sets Have Common Elements"
      ]
    },
    {
      "cell_type": "code",
      "execution_count": 24,
      "metadata": {
        "colab": {
          "base_uri": "https://localhost:8080/"
        },
        "id": "7-rXLGLsexOt",
        "outputId": "b5fca257-27aa-4fad-ed23-4723bcf29061"
      },
      "outputs": [
        {
          "output_type": "stream",
          "name": "stdout",
          "text": [
            "No\n"
          ]
        }
      ],
      "source": [
        "# Given sets\n",
        "set1 = {1, 2, 3}\n",
        "set2 = {4, 5, 6}\n",
        "\n",
        "# Check for common elements\n",
        "if set1.intersection(set2):\n",
        "    print(\"Yes\")\n",
        "else:\n",
        "    print(\"No\")\n"
      ]
    },
    {
      "cell_type": "markdown",
      "metadata": {
        "id": "nRam4ksLe1dP"
      },
      "source": [
        "3. Find Elements Present in Only One of the Two Sets"
      ]
    },
    {
      "cell_type": "code",
      "execution_count": 25,
      "metadata": {
        "colab": {
          "base_uri": "https://localhost:8080/"
        },
        "id": "8ahTxHHPe9mX",
        "outputId": "63eb1a77-2b4a-43eb-eb7e-9653e97f0eda"
      },
      "outputs": [
        {
          "output_type": "stream",
          "name": "stdout",
          "text": [
            "Elements unique to either set: {1, 2, 4, 5}\n"
          ]
        }
      ],
      "source": [
        "# Given sets\n",
        "set1 = {1, 2, 3}\n",
        "set2 = {3, 4, 5}\n",
        "\n",
        "# Symmetric difference gives elements not common to both\n",
        "result = set1.symmetric_difference(set2)\n",
        "\n",
        "# Print result\n",
        "print(\"Elements unique to either set:\", result)\n"
      ]
    },
    {
      "cell_type": "markdown",
      "metadata": {
        "id": "glVMLYZ_e_pq"
      },
      "source": [
        "4. Count the Number of Unique Characters in a String"
      ]
    },
    {
      "cell_type": "code",
      "execution_count": 26,
      "metadata": {
        "colab": {
          "base_uri": "https://localhost:8080/"
        },
        "id": "JG2aOlXofDep",
        "outputId": "76a4f537-c020-45e4-d08b-27e7520a90a3"
      },
      "outputs": [
        {
          "output_type": "stream",
          "name": "stdout",
          "text": [
            "Number of unique characters: 4\n"
          ]
        }
      ],
      "source": [
        "# Given string\n",
        "text = \"hello\"\n",
        "\n",
        "# Convert string to set to get unique characters\n",
        "unique_chars = set(text)\n",
        "\n",
        "# Print count of unique characters\n",
        "print(\"Number of unique characters:\", len(unique_chars))\n"
      ]
    },
    {
      "cell_type": "markdown",
      "metadata": {
        "id": "CE0ga_p3fF6s"
      },
      "source": [
        "5. Check if One Set is a Subset of Another"
      ]
    },
    {
      "cell_type": "code",
      "execution_count": 27,
      "metadata": {
        "id": "OLExABOpfMYw",
        "colab": {
          "base_uri": "https://localhost:8080/"
        },
        "outputId": "4e69a76e-2ca8-441c-de06-3dcd1570e5fe"
      },
      "outputs": [
        {
          "output_type": "stream",
          "name": "stdout",
          "text": [
            "Is set1 a subset of set2? True\n"
          ]
        }
      ],
      "source": [
        "# Given sets\n",
        "set1 = {1, 2}\n",
        "set2 = {1, 2, 3, 4}\n",
        "\n",
        "# Check if set1 is subset of set2\n",
        "print(\"Is set1 a subset of set2?\", set1.issubset(set2))\n"
      ]
    }
  ],
  "metadata": {
    "colab": {
      "provenance": [],
      "include_colab_link": true
    },
    "kernelspec": {
      "display_name": "Python 3 (ipykernel)",
      "language": "python",
      "name": "python3"
    },
    "language_info": {
      "codemirror_mode": {
        "name": "ipython",
        "version": 3
      },
      "file_extension": ".py",
      "mimetype": "text/x-python",
      "name": "python",
      "nbconvert_exporter": "python",
      "pygments_lexer": "ipython3",
      "version": "3.13.5"
    }
  },
  "nbformat": 4,
  "nbformat_minor": 0
}