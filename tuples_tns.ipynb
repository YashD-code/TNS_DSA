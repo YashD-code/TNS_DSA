{
  "nbformat": 4,
  "nbformat_minor": 0,
  "metadata": {
    "colab": {
      "provenance": [],
      "authorship_tag": "ABX9TyMC5LzJmH8yRlrRXy2SInf6"
    },
    "kernelspec": {
      "name": "python3",
      "display_name": "Python 3"
    },
    "language_info": {
      "name": "python"
    }
  },
  "cells": [
    {
      "cell_type": "markdown",
      "source": [
        "#  Python Tuples — DSA Theory\n",
        "\n",
        "A **Tuple** in Python is an **ordered, immutable sequence of elements**.\n",
        "\n",
        "---\n",
        "\n",
        "## Characteristics:\n",
        "\n",
        "- **Indexed:** Elements are accessed via zero-based index.\n",
        "- **Immutable:** Once created, elements cannot be added, removed, or changed.\n",
        "- **Allows Duplicates:** Tuples can have multiple occurrences of the same value.\n",
        "- **Heterogeneous:** Can store elements of different data types.\n",
        "- **Faster than lists** for fixed-sized collections because of immutability.\n",
        "\n",
        "---\n",
        "\n",
        "## Internal Implementation:\n",
        "\n",
        "Tuples are implemented as **static arrays**, where the size is fixed after creation.  \n",
        "This makes them faster and more memory-efficient for **read-only data**.\n",
        "\n",
        "---\n",
        "\n",
        "## Common Operations in Tuples:\n",
        "\n",
        "| Operation      | Description                                              |\n",
        "|:---------------|:---------------------------------------------------------|\n",
        "| `index()`       | Returns the index of the first occurrence of a value     |\n",
        "| `count()`       | Counts the number of times a value appears               |\n",
        "| `len()`         | Returns the number of elements in the tuple              |\n",
        "| `max()` / `min()`| Returns the largest / smallest element                  |\n",
        "| `sum()`         | Returns the sum of numeric elements (if applicable)      |\n",
        "| `tuple()`       | Converts an iterable (like a list) into a tuple          |\n",
        "\n",
        "---\n"
      ],
      "metadata": {
        "id": "quLBTITZNWzm"
      }
    },
    {
      "cell_type": "markdown",
      "source": [
        "###  Declaration of Tuples"
      ],
      "metadata": {
        "id": "PSZTkSWaNenY"
      }
    },
    {
      "cell_type": "code",
      "execution_count": 3,
      "metadata": {
        "id": "-tcvQepDjX5g",
        "colab": {
          "base_uri": "https://localhost:8080/"
        },
        "outputId": "bb55d146-d115-462b-ad1f-c2fdb5887cdb"
      },
      "outputs": [
        {
          "output_type": "stream",
          "name": "stdout",
          "text": [
            "Tuple: (10, 20, 30, 40, 40, 50)\n"
          ]
        }
      ],
      "source": [
        "yash_tuple=(10,20,30,40,40,50)\n",
        "\n",
        "print(\"Tuple:\",yash_tuple)"
      ]
    },
    {
      "cell_type": "markdown",
      "source": [
        "# Functions"
      ],
      "metadata": {
        "id": "XdtwND-2NyGR"
      }
    },
    {
      "cell_type": "markdown",
      "source": [
        "### 1. index()"
      ],
      "metadata": {
        "id": "GnVwE4onN8t9"
      }
    },
    {
      "cell_type": "code",
      "source": [
        "print(\"Index of 40:\",yash_tuple.index(40))"
      ],
      "metadata": {
        "colab": {
          "base_uri": "https://localhost:8080/"
        },
        "id": "7bjgHLMLNy3x",
        "outputId": "246e6a52-df0e-4760-bc54-3f03e26d5635"
      },
      "execution_count": 4,
      "outputs": [
        {
          "output_type": "stream",
          "name": "stdout",
          "text": [
            "Index of 40: 3\n"
          ]
        }
      ]
    },
    {
      "cell_type": "markdown",
      "source": [
        "### 2. count ()"
      ],
      "metadata": {
        "id": "g9hd_zxSOBH_"
      }
    },
    {
      "cell_type": "code",
      "source": [
        "print(\"Count of 40: \",yash_tuple.count(40))"
      ],
      "metadata": {
        "colab": {
          "base_uri": "https://localhost:8080/"
        },
        "id": "SWIoAntxOGZ0",
        "outputId": "a8be05af-236c-4cbf-c642-23ae347aeca4"
      },
      "execution_count": 5,
      "outputs": [
        {
          "output_type": "stream",
          "name": "stdout",
          "text": [
            "Count of 40:  2\n"
          ]
        }
      ]
    },
    {
      "cell_type": "markdown",
      "source": [
        "## 3. len ()\n"
      ],
      "metadata": {
        "id": "uy5960u_OV-7"
      }
    },
    {
      "cell_type": "code",
      "source": [
        "print(\"Length of tuple:\",len(yash_tuple))"
      ],
      "metadata": {
        "colab": {
          "base_uri": "https://localhost:8080/"
        },
        "id": "nka21UWGOYuj",
        "outputId": "fe4c59c8-67c7-4497-f41d-511957ed5385"
      },
      "execution_count": 7,
      "outputs": [
        {
          "output_type": "stream",
          "name": "stdout",
          "text": [
            "Length of tuple: 6\n"
          ]
        }
      ]
    },
    {
      "cell_type": "markdown",
      "source": [
        "## 4. min () and max ()"
      ],
      "metadata": {
        "id": "x1GTw1WkOnbD"
      }
    },
    {
      "cell_type": "code",
      "source": [
        "print(\"Minimum Value in Tuple:\",min(yash_tuple))\n",
        "print(\"Maximum Value in Tuple:\",max(yash_tuple))"
      ],
      "metadata": {
        "colab": {
          "base_uri": "https://localhost:8080/"
        },
        "id": "9NEwH3x1OoK1",
        "outputId": "fb9cfcc3-8e2f-4111-dce8-2d1a459c2e3d"
      },
      "execution_count": 9,
      "outputs": [
        {
          "output_type": "stream",
          "name": "stdout",
          "text": [
            "Minimum Value in Tuple: 10\n",
            "Maximum Value in Tuple: 50\n"
          ]
        }
      ]
    },
    {
      "cell_type": "markdown",
      "source": [
        "## 5. sum ()"
      ],
      "metadata": {
        "id": "hJeYIN1CO-3D"
      }
    },
    {
      "cell_type": "code",
      "source": [
        "print(\"Sum of Tuple:\",sum(yash_tuple))"
      ],
      "metadata": {
        "colab": {
          "base_uri": "https://localhost:8080/"
        },
        "id": "sfmSNiUbPB2b",
        "outputId": "faa599c3-470c-40ce-ce0a-be1de5558b09"
      },
      "execution_count": 10,
      "outputs": [
        {
          "output_type": "stream",
          "name": "stdout",
          "text": [
            "Sum of Tuple: 190\n"
          ]
        }
      ]
    },
    {
      "cell_type": "markdown",
      "source": [
        "# 6. tuple ()"
      ],
      "metadata": {
        "id": "-jXcPNqePLuA"
      }
    },
    {
      "cell_type": "code",
      "source": [
        "yash_list=[10,20,30,40,50]\n",
        "\n",
        "yash_tuple=tuple(yash_list)\n",
        "\n",
        "print(\"Tuple:\",yash_tuple)\n",
        "print(type(yash_tuple))"
      ],
      "metadata": {
        "colab": {
          "base_uri": "https://localhost:8080/"
        },
        "id": "WDCAhOWqPOZ8",
        "outputId": "892ac0c6-24ff-4c96-a271-9c3e3148a100"
      },
      "execution_count": 13,
      "outputs": [
        {
          "output_type": "stream",
          "name": "stdout",
          "text": [
            "Tuple: (10, 20, 30, 40, 50)\n",
            "<class 'tuple'>\n"
          ]
        }
      ]
    },
    {
      "cell_type": "markdown",
      "source": [
        "# DSA Problems on Tuples"
      ],
      "metadata": {
        "id": "9__2JQICPp7L"
      }
    },
    {
      "cell_type": "markdown",
      "source": [
        "### 1. Given a tuple of numbers and a target element, find and print all indexes where the target element occurs in the tuple."
      ],
      "metadata": {
        "id": "FEiYn7f5Pqk7"
      }
    },
    {
      "cell_type": "code",
      "source": [
        "yash_tuple=(10,20,30,40,50,20,20,80,90,100)\n",
        "target=20\n",
        "index=[]\n",
        "for i in range(len(yash_tuple)):\n",
        "  if yash_tuple[i]==target:\n",
        "    index.append(i)\n",
        "print(\"Index of\",target,\"is:\",index)\n"
      ],
      "metadata": {
        "colab": {
          "base_uri": "https://localhost:8080/"
        },
        "id": "F3Cb7noMPuFs",
        "outputId": "7f30f54b-5a6e-4dd5-de51-337c4923f554"
      },
      "execution_count": 15,
      "outputs": [
        {
          "output_type": "stream",
          "name": "stdout",
          "text": [
            "Index of 20 is: [1, 5, 6]\n"
          ]
        }
      ]
    },
    {
      "cell_type": "markdown",
      "source": [
        "## 2: Flatten a Tuple of Tuples"
      ],
      "metadata": {
        "id": "mk5NKCLXQdFJ"
      }
    },
    {
      "cell_type": "code",
      "source": [
        "nested_tuple = ((1, 2), (3, 4), (5, 6))\n",
        "flat=[]\n",
        "for i in nested_tuple:\n",
        "  for j in i:\n",
        "    flat.append(j)\n",
        "print(tuple(flat))"
      ],
      "metadata": {
        "colab": {
          "base_uri": "https://localhost:8080/"
        },
        "id": "EexBeQ_CQgPO",
        "outputId": "b8494210-3830-44af-8e0e-c70f44f28b64"
      },
      "execution_count": 17,
      "outputs": [
        {
          "output_type": "stream",
          "name": "stdout",
          "text": [
            "(1, 2, 3, 4, 5, 6)\n"
          ]
        }
      ]
    },
    {
      "cell_type": "markdown",
      "source": [
        "## 3. Swap First and Last Elements\n",
        "\n"
      ],
      "metadata": {
        "id": "Ko4oAOdkQ6RK"
      }
    },
    {
      "cell_type": "code",
      "source": [
        "my_tuple = (10, 20, 30, 40)\n",
        "temp=list(my_tuple)\n",
        "temp[0],temp[-1]=temp[-1],temp[0]\n",
        "print(\"Tuple Before Swap:\",my_tuple)\n",
        "print(\"Tuple After Swap:\",tuple(temp))"
      ],
      "metadata": {
        "colab": {
          "base_uri": "https://localhost:8080/"
        },
        "id": "9wNIVOAgQ7Au",
        "outputId": "97fe068d-3a37-4333-f458-aaabf321857d"
      },
      "execution_count": 18,
      "outputs": [
        {
          "output_type": "stream",
          "name": "stdout",
          "text": [
            "Tuple Before Swap: (10, 20, 30, 40)\n",
            "Tuple After Swap: (40, 20, 30, 10)\n"
          ]
        }
      ]
    },
    {
      "cell_type": "markdown",
      "source": [
        " ## 4: Find Second Largest Element"
      ],
      "metadata": {
        "id": "TuTmDn2rRZlS"
      }
    },
    {
      "cell_type": "code",
      "source": [
        "my_tuple = (10, 40, 30, 20, 50)\n",
        "yash_list=list(my_tuple)\n",
        "yash_list.sort()\n",
        "print(\"Second Largest Element:\",yash_list[-2])"
      ],
      "metadata": {
        "colab": {
          "base_uri": "https://localhost:8080/"
        },
        "id": "K03ZKUUdRd4H",
        "outputId": "79e4af74-1333-4a1f-ea82-8cf20a632185"
      },
      "execution_count": 19,
      "outputs": [
        {
          "output_type": "stream",
          "name": "stdout",
          "text": [
            "Second Largest Element: 40\n"
          ]
        }
      ]
    },
    {
      "cell_type": "markdown",
      "source": [
        "## 5: Check if Two Tuples are Identical"
      ],
      "metadata": {
        "id": "CPc7Y3LLR3Si"
      }
    },
    {
      "cell_type": "code",
      "source": [
        "tuple1 = (10, 20, 30)\n",
        "tuple2 = (10, 20, 30)\n",
        "tuple3=(10,20)\n",
        "print(tuple1==tuple2)\n",
        "print(tuple1==tuple3)"
      ],
      "metadata": {
        "colab": {
          "base_uri": "https://localhost:8080/"
        },
        "id": "xbBAolRHR4Jo",
        "outputId": "ddaef306-d4da-410a-b8f2-4d60b69f594d"
      },
      "execution_count": 20,
      "outputs": [
        {
          "output_type": "stream",
          "name": "stdout",
          "text": [
            "True\n",
            "False\n"
          ]
        }
      ]
    }
  ]
}